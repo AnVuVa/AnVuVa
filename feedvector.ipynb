{
 "cells": [
  {
   "cell_type": "code",
   "execution_count": null,
   "id": "a7d6c7b3",
   "metadata": {},
   "outputs": [],
   "source": [
    "import os\n",
    "os.environ['OPENAI_API_KEY'] = 'your_openai_api_key_here'\n",
    "os.environ['MISTRAL_API_KEY'] = 'your_mistral_api_key_here'"
   ]
  },
  {
   "cell_type": "code",
   "execution_count": 3,
   "id": "93b27305",
   "metadata": {},
   "outputs": [],
   "source": [
    "import vectordb, importlib\n",
    "importlib.reload(vectordb)\n",
    "from vectordb import add_books_to_faiss, clean_db"
   ]
  },
  {
   "cell_type": "code",
   "execution_count": 1,
   "id": "2b26efc9",
   "metadata": {},
   "outputs": [
    {
     "name": "stdout",
     "output_type": "stream",
     "text": [
      "['E:\\\\Git_clone\\\\RAG\\\\qa_dataset\\\\data_clean\\\\textbooks\\\\en\\\\Anatomy_Gray.txt', 'E:\\\\Git_clone\\\\RAG\\\\qa_dataset\\\\data_clean\\\\textbooks\\\\en\\\\Biochemistry_Lippincott.txt', 'E:\\\\Git_clone\\\\RAG\\\\qa_dataset\\\\data_clean\\\\textbooks\\\\en\\\\Cell_Biology_Alberts.txt', 'E:\\\\Git_clone\\\\RAG\\\\qa_dataset\\\\data_clean\\\\textbooks\\\\en\\\\First_Aid_Step1.txt', 'E:\\\\Git_clone\\\\RAG\\\\qa_dataset\\\\data_clean\\\\textbooks\\\\en\\\\First_Aid_Step2.txt', 'E:\\\\Git_clone\\\\RAG\\\\qa_dataset\\\\data_clean\\\\textbooks\\\\en\\\\Gynecology_Novak.txt', 'E:\\\\Git_clone\\\\RAG\\\\qa_dataset\\\\data_clean\\\\textbooks\\\\en\\\\Histology_Ross.txt', 'E:\\\\Git_clone\\\\RAG\\\\qa_dataset\\\\data_clean\\\\textbooks\\\\en\\\\Immunology_Janeway.txt', 'E:\\\\Git_clone\\\\RAG\\\\qa_dataset\\\\data_clean\\\\textbooks\\\\en\\\\InternalMed_Harrison.txt', 'E:\\\\Git_clone\\\\RAG\\\\qa_dataset\\\\data_clean\\\\textbooks\\\\en\\\\Neurology_Adams.txt', 'E:\\\\Git_clone\\\\RAG\\\\qa_dataset\\\\data_clean\\\\textbooks\\\\en\\\\Obstentrics_Williams.txt', 'E:\\\\Git_clone\\\\RAG\\\\qa_dataset\\\\data_clean\\\\textbooks\\\\en\\\\Pathology_Robbins.txt', 'E:\\\\Git_clone\\\\RAG\\\\qa_dataset\\\\data_clean\\\\textbooks\\\\en\\\\Pathoma_Husain.txt', 'E:\\\\Git_clone\\\\RAG\\\\qa_dataset\\\\data_clean\\\\textbooks\\\\en\\\\Pediatrics_Nelson.txt', 'E:\\\\Git_clone\\\\RAG\\\\qa_dataset\\\\data_clean\\\\textbooks\\\\en\\\\Pharmacology_Katzung.txt', 'E:\\\\Git_clone\\\\RAG\\\\qa_dataset\\\\data_clean\\\\textbooks\\\\en\\\\Physiology_Levy.txt', 'E:\\\\Git_clone\\\\RAG\\\\qa_dataset\\\\data_clean\\\\textbooks\\\\en\\\\Psichiatry_DSM-5.txt', 'E:\\\\Git_clone\\\\RAG\\\\qa_dataset\\\\data_clean\\\\textbooks\\\\en\\\\Surgery_Schwartz.txt']\n"
     ]
    }
   ],
   "source": [
    "import os\n",
    "\n",
    "# book_paths = [\n",
    "#     # r\"/workspaces/YuE/books/Anatomy and Physiology, OpenStax, Rice University.pdf\",\n",
    "#     r\"/workspaces/YuE/books/Atlas of HEART FAILURE _ Cardiac Function and Dysfunction -- Arnold M_ Katz (auth_), Wilson S_ Colucci MD (eds_) -- Softcover reprint of the original -- 9781475745580 -- 5bec97274a4e43ffe879a28356cddf22 -- Anna’s.pdf\",\n",
    "#     r\"/workspaces/YuE/books/Internal Medicine, Getachew Tizazu, Tadesse Anteneh.pdf\",\n",
    "#     r\"/workspaces/YuE/books/Ultrasound Physics and its Application in Medicine, Arbin Thapaliya; Alec Sithole; Michael Welsh; and Gaston Dana.pdf\"\n",
    "#     # r\"/workspaces/YuE/books/04. Social Medicine author Silvia Capíková, Michaela Kosticová, Ivan Solovic.pdf\",\n",
    "#     r\"/workspaces/YuE/books/02. Diagnosis and Treatment Manual author Patestos Dimitrios (1).pdf\",\n",
    "#     r\"/workspaces/YuE/books/03. Good clinical diagnostic practice author Jane Carter, Irmela Müller-Stöver, Harald Östensen, Claus Chr. Heuck.pdf\",\n",
    "#     r\"/workspaces/YuE/books/05. Standard treatment guidelines and essential medicines list author Various authors.pdf\",\n",
    "#     r\"/workspaces/YuE/books/07. Clinical Pharmacology in health care, teaching and research author World Health Organization.pdf\",\n",
    "#     # r\"/workspaces/YuE/books/11. Immunology author Guus van der Bie.pdf\",\n",
    "# ]\n",
    "faiss_path = r\"/workspaces/YuE/faiss_index\"\n",
    "book_paths = [os.path.join(r\"E:\\Git_clone\\RAG\\qa_dataset\\data_clean\\textbooks\\en\", f) for f in os.listdir(r\"E:\\Git_clone\\RAG\\qa_dataset\\data_clean\\textbooks\\en\") if os.path.isfile(os.path.join(r\"E:\\Git_clone\\RAG\\qa_dataset\\data_clean\\textbooks\\en\", f))]\n",
    "print(book_paths)"
   ]
  },
  {
   "cell_type": "code",
   "execution_count": 4,
   "id": "0a05d100",
   "metadata": {},
   "outputs": [
    {
     "name": "stdout",
     "output_type": "stream",
     "text": [
      "Directory /workspaces/YuE/faiss_index does not exist.\n"
     ]
    }
   ],
   "source": [
    "clean_db(faiss_path)"
   ]
  },
  {
   "cell_type": "code",
   "execution_count": 5,
   "id": "fb9b62a4",
   "metadata": {},
   "outputs": [
    {
     "name": "stdout",
     "output_type": "stream",
     "text": [
      "Loading and chunking document...\n"
     ]
    },
    {
     "name": "stderr",
     "output_type": "stream",
     "text": [
      "📄 Loading documents:   0%|          | 0/1 [00:00<?, ?it/s]"
     ]
    },
    {
     "name": "stdout",
     "output_type": "stream",
     "text": [
      "2025-04-27 03:36:05,057 - unstructured - WARNING - libmagic is unavailable but assists in filetype detection. Please consider installing libmagic for better results.\n"
     ]
    },
    {
     "name": "stderr",
     "output_type": "stream",
     "text": [
      "📄 Loading documents: 100%|██████████| 1/1 [00:41<00:00, 41.44s/it]"
     ]
    },
    {
     "name": "stdout",
     "output_type": "stream",
     "text": [
      "Loaded 3017 chunks from E:\\Git_clone\\RAG\\qa_dataset\\data_clean\\textbooks\\en\\Anatomy_Gray.txt\n",
      "Finding semantic connections with LLM...\n",
      "Embedding chunks in parallel...\n"
     ]
    },
    {
     "name": "stderr",
     "output_type": "stream",
     "text": [
      "\n",
      "🔄 Embedding batches: 100%|██████████| 95/95 [00:12<00:00,  7.56it/s]\n"
     ]
    },
    {
     "name": "stdout",
     "output_type": "stream",
     "text": [
      "Storing chunks in FAISS...\n",
      "Loading and chunking document...\n"
     ]
    },
    {
     "name": "stderr",
     "output_type": "stream",
     "text": [
      "📄 Loading documents:   0%|          | 0/1 [00:00<?, ?it/s]"
     ]
    },
    {
     "name": "stdout",
     "output_type": "stream",
     "text": [
      "2025-04-27 03:38:06,851 - unstructured - WARNING - libmagic is unavailable but assists in filetype detection. Please consider installing libmagic for better results.\n"
     ]
    },
    {
     "name": "stderr",
     "output_type": "stream",
     "text": [
      "📄 Loading documents: 100%|██████████| 1/1 [00:03<00:00,  3.42s/it]"
     ]
    },
    {
     "name": "stdout",
     "output_type": "stream",
     "text": [
      "Loaded 1973 chunks from E:\\Git_clone\\RAG\\qa_dataset\\data_clean\\textbooks\\en\\Biochemistry_Lippincott.txt\n",
      "Finding semantic connections with LLM...\n",
      "Embedding chunks in parallel...\n"
     ]
    },
    {
     "name": "stderr",
     "output_type": "stream",
     "text": [
      "\n",
      "🔄 Embedding batches: 100%|██████████| 62/62 [00:04<00:00, 13.01it/s]\n"
     ]
    },
    {
     "name": "stdout",
     "output_type": "stream",
     "text": [
      "Storing chunks in FAISS...\n",
      "Loading and chunking document...\n"
     ]
    },
    {
     "name": "stderr",
     "output_type": "stream",
     "text": [
      "📄 Loading documents:   0%|          | 0/1 [00:00<?, ?it/s]"
     ]
    },
    {
     "name": "stdout",
     "output_type": "stream",
     "text": [
      "2025-04-27 03:38:23,127 - unstructured - WARNING - libmagic is unavailable but assists in filetype detection. Please consider installing libmagic for better results.\n"
     ]
    },
    {
     "name": "stderr",
     "output_type": "stream",
     "text": [
      "📄 Loading documents: 100%|██████████| 1/1 [00:10<00:00, 10.88s/it]"
     ]
    },
    {
     "name": "stdout",
     "output_type": "stream",
     "text": [
      "Loaded 7071 chunks from E:\\Git_clone\\RAG\\qa_dataset\\data_clean\\textbooks\\en\\Cell_Biology_Alberts.txt\n",
      "Finding semantic connections with LLM...\n",
      "Embedding chunks in parallel...\n"
     ]
    },
    {
     "name": "stderr",
     "output_type": "stream",
     "text": [
      "\n",
      "🔄 Embedding batches: 100%|██████████| 221/221 [00:16<00:00, 13.29it/s]\n"
     ]
    },
    {
     "name": "stdout",
     "output_type": "stream",
     "text": [
      "Storing chunks in FAISS...\n",
      "Loading and chunking document...\n"
     ]
    },
    {
     "name": "stderr",
     "output_type": "stream",
     "text": [
      "📄 Loading documents:   0%|          | 0/1 [00:00<?, ?it/s]"
     ]
    },
    {
     "name": "stdout",
     "output_type": "stream",
     "text": [
      "2025-04-27 03:39:09,452 - unstructured - WARNING - libmagic is unavailable but assists in filetype detection. Please consider installing libmagic for better results.\n"
     ]
    },
    {
     "name": "stderr",
     "output_type": "stream",
     "text": [
      "📄 Loading documents: 100%|██████████| 1/1 [00:03<00:00,  3.67s/it]"
     ]
    },
    {
     "name": "stdout",
     "output_type": "stream",
     "text": [
      "Loaded 850 chunks from E:\\Git_clone\\RAG\\qa_dataset\\data_clean\\textbooks\\en\\First_Aid_Step1.txt\n",
      "Finding semantic connections with LLM...\n",
      "Embedding chunks in parallel...\n"
     ]
    },
    {
     "name": "stderr",
     "output_type": "stream",
     "text": [
      "\n",
      "🔄 Embedding batches: 100%|██████████| 27/27 [00:02<00:00, 12.00it/s]\n"
     ]
    },
    {
     "name": "stdout",
     "output_type": "stream",
     "text": [
      "Storing chunks in FAISS...\n",
      "Loading and chunking document...\n"
     ]
    },
    {
     "name": "stderr",
     "output_type": "stream",
     "text": [
      "📄 Loading documents:   0%|          | 0/1 [00:00<?, ?it/s]"
     ]
    },
    {
     "name": "stdout",
     "output_type": "stream",
     "text": [
      "2025-04-27 03:39:21,260 - unstructured - WARNING - libmagic is unavailable but assists in filetype detection. Please consider installing libmagic for better results.\n"
     ]
    },
    {
     "name": "stderr",
     "output_type": "stream",
     "text": [
      "📄 Loading documents: 100%|██████████| 1/1 [00:05<00:00,  5.85s/it]"
     ]
    },
    {
     "name": "stdout",
     "output_type": "stream",
     "text": [
      "Loaded 1369 chunks from E:\\Git_clone\\RAG\\qa_dataset\\data_clean\\textbooks\\en\\First_Aid_Step2.txt\n",
      "Finding semantic connections with LLM...\n",
      "Embedding chunks in parallel...\n"
     ]
    },
    {
     "name": "stderr",
     "output_type": "stream",
     "text": [
      "\n",
      "🔄 Embedding batches: 100%|██████████| 43/43 [00:03<00:00, 12.71it/s]\n"
     ]
    },
    {
     "name": "stdout",
     "output_type": "stream",
     "text": [
      "Storing chunks in FAISS...\n",
      "Loading and chunking document...\n"
     ]
    },
    {
     "name": "stderr",
     "output_type": "stream",
     "text": [
      "📄 Loading documents:   0%|          | 0/1 [00:00<?, ?it/s]"
     ]
    },
    {
     "name": "stdout",
     "output_type": "stream",
     "text": [
      "2025-04-27 03:39:37,516 - unstructured - WARNING - libmagic is unavailable but assists in filetype detection. Please consider installing libmagic for better results.\n"
     ]
    },
    {
     "name": "stderr",
     "output_type": "stream",
     "text": [
      "📄 Loading documents: 100%|██████████| 1/1 [00:15<00:00, 15.33s/it]"
     ]
    },
    {
     "name": "stdout",
     "output_type": "stream",
     "text": [
      "Loaded 7947 chunks from E:\\Git_clone\\RAG\\qa_dataset\\data_clean\\textbooks\\en\\Gynecology_Novak.txt\n",
      "Finding semantic connections with LLM...\n",
      "Embedding chunks in parallel...\n"
     ]
    },
    {
     "name": "stderr",
     "output_type": "stream",
     "text": [
      "\n",
      "🔄 Embedding batches: 100%|██████████| 249/249 [00:18<00:00, 13.17it/s]\n"
     ]
    },
    {
     "name": "stdout",
     "output_type": "stream",
     "text": [
      "Storing chunks in FAISS...\n",
      "Loading and chunking document...\n"
     ]
    },
    {
     "name": "stderr",
     "output_type": "stream",
     "text": [
      "📄 Loading documents:   0%|          | 0/1 [00:00<?, ?it/s]"
     ]
    },
    {
     "name": "stdout",
     "output_type": "stream",
     "text": [
      "2025-04-27 03:40:33,552 - unstructured - WARNING - libmagic is unavailable but assists in filetype detection. Please consider installing libmagic for better results.\n"
     ]
    },
    {
     "name": "stderr",
     "output_type": "stream",
     "text": [
      "📄 Loading documents: 100%|██████████| 1/1 [00:07<00:00,  7.80s/it]"
     ]
    },
    {
     "name": "stdout",
     "output_type": "stream",
     "text": [
      "Loaded 4411 chunks from E:\\Git_clone\\RAG\\qa_dataset\\data_clean\\textbooks\\en\\Histology_Ross.txt\n",
      "Finding semantic connections with LLM...\n",
      "Embedding chunks in parallel...\n"
     ]
    },
    {
     "name": "stderr",
     "output_type": "stream",
     "text": [
      "\n",
      "🔄 Embedding batches: 100%|██████████| 138/138 [00:10<00:00, 12.88it/s]\n"
     ]
    },
    {
     "name": "stdout",
     "output_type": "stream",
     "text": [
      "Storing chunks in FAISS...\n",
      "Loading and chunking document...\n"
     ]
    },
    {
     "name": "stderr",
     "output_type": "stream",
     "text": [
      "📄 Loading documents:   0%|          | 0/1 [00:00<?, ?it/s]"
     ]
    },
    {
     "name": "stdout",
     "output_type": "stream",
     "text": [
      "2025-04-27 03:41:05,984 - unstructured - WARNING - libmagic is unavailable but assists in filetype detection. Please consider installing libmagic for better results.\n"
     ]
    },
    {
     "name": "stderr",
     "output_type": "stream",
     "text": [
      "📄 Loading documents: 100%|██████████| 1/1 [00:09<00:00,  9.66s/it]"
     ]
    },
    {
     "name": "stdout",
     "output_type": "stream",
     "text": [
      "Loaded 4852 chunks from E:\\Git_clone\\RAG\\qa_dataset\\data_clean\\textbooks\\en\\Immunology_Janeway.txt\n",
      "Finding semantic connections with LLM...\n",
      "Embedding chunks in parallel...\n"
     ]
    },
    {
     "name": "stderr",
     "output_type": "stream",
     "text": [
      "\n",
      "🔄 Embedding batches: 100%|██████████| 152/152 [00:11<00:00, 13.06it/s]\n"
     ]
    },
    {
     "name": "stdout",
     "output_type": "stream",
     "text": [
      "Storing chunks in FAISS...\n",
      "Loading and chunking document...\n"
     ]
    },
    {
     "name": "stderr",
     "output_type": "stream",
     "text": [
      "📄 Loading documents:   0%|          | 0/1 [00:00<?, ?it/s]"
     ]
    },
    {
     "name": "stdout",
     "output_type": "stream",
     "text": [
      "2025-04-27 03:41:42,740 - unstructured - WARNING - libmagic is unavailable but assists in filetype detection. Please consider installing libmagic for better results.\n"
     ]
    },
    {
     "name": "stderr",
     "output_type": "stream",
     "text": [
      "📄 Loading documents: 100%|██████████| 1/1 [00:50<00:00, 50.15s/it]"
     ]
    },
    {
     "name": "stdout",
     "output_type": "stream",
     "text": [
      "Loaded 32628 chunks from E:\\Git_clone\\RAG\\qa_dataset\\data_clean\\textbooks\\en\\InternalMed_Harrison.txt\n",
      "Finding semantic connections with LLM...\n",
      "Embedding chunks in parallel...\n"
     ]
    },
    {
     "name": "stderr",
     "output_type": "stream",
     "text": [
      "\n",
      "🔄 Embedding batches: 100%|██████████| 1020/1020 [01:17<00:00, 13.24it/s]\n"
     ]
    },
    {
     "name": "stdout",
     "output_type": "stream",
     "text": [
      "Storing chunks in FAISS...\n",
      "Loading and chunking document...\n"
     ]
    },
    {
     "name": "stderr",
     "output_type": "stream",
     "text": [
      "📄 Loading documents:   0%|          | 0/1 [00:00<?, ?it/s]"
     ]
    },
    {
     "name": "stdout",
     "output_type": "stream",
     "text": [
      "2025-04-27 03:45:07,413 - unstructured - WARNING - libmagic is unavailable but assists in filetype detection. Please consider installing libmagic for better results.\n"
     ]
    },
    {
     "name": "stderr",
     "output_type": "stream",
     "text": [
      "📄 Loading documents: 100%|██████████| 1/1 [00:17<00:00, 17.28s/it]"
     ]
    },
    {
     "name": "stdout",
     "output_type": "stream",
     "text": [
      "Loaded 12371 chunks from E:\\Git_clone\\RAG\\qa_dataset\\data_clean\\textbooks\\en\\Neurology_Adams.txt\n",
      "Finding semantic connections with LLM...\n",
      "Embedding chunks in parallel...\n"
     ]
    },
    {
     "name": "stderr",
     "output_type": "stream",
     "text": [
      "\n",
      "🔄 Embedding batches: 100%|██████████| 387/387 [00:28<00:00, 13.39it/s]\n"
     ]
    },
    {
     "name": "stdout",
     "output_type": "stream",
     "text": [
      "Storing chunks in FAISS...\n",
      "Loading and chunking document...\n"
     ]
    },
    {
     "name": "stderr",
     "output_type": "stream",
     "text": [
      "📄 Loading documents:   0%|          | 0/1 [00:00<?, ?it/s]"
     ]
    },
    {
     "name": "stdout",
     "output_type": "stream",
     "text": [
      "2025-04-27 03:46:26,134 - unstructured - WARNING - libmagic is unavailable but assists in filetype detection. Please consider installing libmagic for better results.\n"
     ]
    },
    {
     "name": "stderr",
     "output_type": "stream",
     "text": [
      "📄 Loading documents: 100%|██████████| 1/1 [00:16<00:00, 16.24s/it]"
     ]
    },
    {
     "name": "stdout",
     "output_type": "stream",
     "text": [
      "Loaded 9166 chunks from E:\\Git_clone\\RAG\\qa_dataset\\data_clean\\textbooks\\en\\Obstentrics_Williams.txt\n",
      "Finding semantic connections with LLM...\n",
      "Embedding chunks in parallel...\n"
     ]
    },
    {
     "name": "stderr",
     "output_type": "stream",
     "text": [
      "\n",
      "🔄 Embedding batches: 100%|██████████| 287/287 [00:21<00:00, 13.06it/s]\n"
     ]
    },
    {
     "name": "stdout",
     "output_type": "stream",
     "text": [
      "Storing chunks in FAISS...\n",
      "Loading and chunking document...\n"
     ]
    },
    {
     "name": "stderr",
     "output_type": "stream",
     "text": [
      "📄 Loading documents:   0%|          | 0/1 [00:00<?, ?it/s]"
     ]
    },
    {
     "name": "stdout",
     "output_type": "stream",
     "text": [
      "2025-04-27 03:47:33,716 - unstructured - WARNING - libmagic is unavailable but assists in filetype detection. Please consider installing libmagic for better results.\n"
     ]
    },
    {
     "name": "stderr",
     "output_type": "stream",
     "text": [
      "📄 Loading documents: 100%|██████████| 1/1 [00:47<00:00, 47.15s/it]"
     ]
    },
    {
     "name": "stdout",
     "output_type": "stream",
     "text": [
      "Loaded 5267 chunks from E:\\Git_clone\\RAG\\qa_dataset\\data_clean\\textbooks\\en\\Pathology_Robbins.txt\n",
      "Finding semantic connections with LLM...\n",
      "Embedding chunks in parallel...\n"
     ]
    },
    {
     "name": "stderr",
     "output_type": "stream",
     "text": [
      "\n",
      "🔄 Embedding batches: 100%|██████████| 165/165 [00:12<00:00, 12.92it/s]\n"
     ]
    },
    {
     "name": "stdout",
     "output_type": "stream",
     "text": [
      "Storing chunks in FAISS...\n",
      "Loading and chunking document...\n"
     ]
    },
    {
     "name": "stderr",
     "output_type": "stream",
     "text": [
      "📄 Loading documents:   0%|          | 0/1 [00:00<?, ?it/s]"
     ]
    },
    {
     "name": "stdout",
     "output_type": "stream",
     "text": [
      "2025-04-27 03:48:54,339 - unstructured - WARNING - libmagic is unavailable but assists in filetype detection. Please consider installing libmagic for better results.\n"
     ]
    },
    {
     "name": "stderr",
     "output_type": "stream",
     "text": [
      "📄 Loading documents: 100%|██████████| 1/1 [00:03<00:00,  3.34s/it]"
     ]
    },
    {
     "name": "stdout",
     "output_type": "stream",
     "text": [
      "Loaded 504 chunks from E:\\Git_clone\\RAG\\qa_dataset\\data_clean\\textbooks\\en\\Pathoma_Husain.txt\n",
      "Finding semantic connections with LLM...\n",
      "Embedding chunks in parallel...\n"
     ]
    },
    {
     "name": "stderr",
     "output_type": "stream",
     "text": [
      "\n",
      "🔄 Embedding batches: 100%|██████████| 16/16 [00:01<00:00, 10.70it/s]\n"
     ]
    },
    {
     "name": "stdout",
     "output_type": "stream",
     "text": [
      "Storing chunks in FAISS...\n",
      "Loading and chunking document...\n"
     ]
    },
    {
     "name": "stderr",
     "output_type": "stream",
     "text": [
      "📄 Loading documents:   0%|          | 0/1 [00:00<?, ?it/s]"
     ]
    },
    {
     "name": "stdout",
     "output_type": "stream",
     "text": [
      "2025-04-27 03:49:08,597 - unstructured - WARNING - libmagic is unavailable but assists in filetype detection. Please consider installing libmagic for better results.\n"
     ]
    },
    {
     "name": "stderr",
     "output_type": "stream",
     "text": [
      "📄 Loading documents: 100%|██████████| 1/1 [00:07<00:00,  7.76s/it]"
     ]
    },
    {
     "name": "stdout",
     "output_type": "stream",
     "text": [
      "Loaded 4260 chunks from E:\\Git_clone\\RAG\\qa_dataset\\data_clean\\textbooks\\en\\Pediatrics_Nelson.txt\n",
      "Finding semantic connections with LLM...\n",
      "Embedding chunks in parallel...\n"
     ]
    },
    {
     "name": "stderr",
     "output_type": "stream",
     "text": [
      "\n",
      "🔄 Embedding batches: 100%|██████████| 134/134 [00:10<00:00, 13.29it/s]\n"
     ]
    },
    {
     "name": "stdout",
     "output_type": "stream",
     "text": [
      "Storing chunks in FAISS...\n",
      "Loading and chunking document...\n"
     ]
    },
    {
     "name": "stderr",
     "output_type": "stream",
     "text": [
      "📄 Loading documents:   0%|          | 0/1 [00:00<?, ?it/s]"
     ]
    },
    {
     "name": "stdout",
     "output_type": "stream",
     "text": [
      "2025-04-27 03:49:44,518 - unstructured - WARNING - libmagic is unavailable but assists in filetype detection. Please consider installing libmagic for better results.\n"
     ]
    },
    {
     "name": "stderr",
     "output_type": "stream",
     "text": [
      "📄 Loading documents: 100%|██████████| 1/1 [00:11<00:00, 11.65s/it]"
     ]
    },
    {
     "name": "stdout",
     "output_type": "stream",
     "text": [
      "Loaded 7355 chunks from E:\\Git_clone\\RAG\\qa_dataset\\data_clean\\textbooks\\en\\Pharmacology_Katzung.txt\n",
      "Finding semantic connections with LLM...\n",
      "Embedding chunks in parallel...\n"
     ]
    },
    {
     "name": "stderr",
     "output_type": "stream",
     "text": [
      "\n",
      "🔄 Embedding batches: 100%|██████████| 230/230 [00:17<00:00, 13.18it/s]\n"
     ]
    },
    {
     "name": "stdout",
     "output_type": "stream",
     "text": [
      "Storing chunks in FAISS...\n",
      "Loading and chunking document...\n"
     ]
    },
    {
     "name": "stderr",
     "output_type": "stream",
     "text": [
      "📄 Loading documents:   0%|          | 0/1 [00:00<?, ?it/s]"
     ]
    },
    {
     "name": "stdout",
     "output_type": "stream",
     "text": [
      "2025-04-27 03:50:38,412 - unstructured - WARNING - libmagic is unavailable but assists in filetype detection. Please consider installing libmagic for better results.\n"
     ]
    },
    {
     "name": "stderr",
     "output_type": "stream",
     "text": [
      "📄 Loading documents: 100%|██████████| 1/1 [00:16<00:00, 16.50s/it]"
     ]
    },
    {
     "name": "stdout",
     "output_type": "stream",
     "text": [
      "Loaded 4339 chunks from E:\\Git_clone\\RAG\\qa_dataset\\data_clean\\textbooks\\en\\Physiology_Levy.txt\n",
      "Finding semantic connections with LLM...\n",
      "Embedding chunks in parallel...\n"
     ]
    },
    {
     "name": "stderr",
     "output_type": "stream",
     "text": [
      "\n",
      "🔄 Embedding batches: 100%|██████████| 136/136 [00:10<00:00, 13.03it/s]\n"
     ]
    },
    {
     "name": "stdout",
     "output_type": "stream",
     "text": [
      "Storing chunks in FAISS...\n",
      "Loading and chunking document...\n"
     ]
    },
    {
     "name": "stderr",
     "output_type": "stream",
     "text": [
      "📄 Loading documents:   0%|          | 0/1 [00:00<?, ?it/s]"
     ]
    },
    {
     "name": "stdout",
     "output_type": "stream",
     "text": [
      "2025-04-27 03:51:23,822 - unstructured - WARNING - libmagic is unavailable but assists in filetype detection. Please consider installing libmagic for better results.\n"
     ]
    },
    {
     "name": "stderr",
     "output_type": "stream",
     "text": [
      "📄 Loading documents: 100%|██████████| 1/1 [00:09<00:00,  9.50s/it]"
     ]
    },
    {
     "name": "stdout",
     "output_type": "stream",
     "text": [
      "Loaded 4056 chunks from E:\\Git_clone\\RAG\\qa_dataset\\data_clean\\textbooks\\en\\Psichiatry_DSM-5.txt\n",
      "Finding semantic connections with LLM...\n",
      "Embedding chunks in parallel...\n"
     ]
    },
    {
     "name": "stderr",
     "output_type": "stream",
     "text": [
      "\n",
      "🔄 Embedding batches: 100%|██████████| 127/127 [00:09<00:00, 13.59it/s]\n"
     ]
    },
    {
     "name": "stdout",
     "output_type": "stream",
     "text": [
      "Storing chunks in FAISS...\n",
      "Loading and chunking document...\n"
     ]
    },
    {
     "name": "stderr",
     "output_type": "stream",
     "text": [
      "📄 Loading documents:   0%|          | 0/1 [00:00<?, ?it/s]"
     ]
    },
    {
     "name": "stdout",
     "output_type": "stream",
     "text": [
      "2025-04-27 03:52:01,103 - unstructured - WARNING - libmagic is unavailable but assists in filetype detection. Please consider installing libmagic for better results.\n"
     ]
    },
    {
     "name": "stderr",
     "output_type": "stream",
     "text": [
      "📄 Loading documents: 100%|██████████| 1/1 [00:25<00:00, 25.17s/it]"
     ]
    },
    {
     "name": "stdout",
     "output_type": "stream",
     "text": [
      "Loaded 14349 chunks from E:\\Git_clone\\RAG\\qa_dataset\\data_clean\\textbooks\\en\\Surgery_Schwartz.txt\n",
      "Finding semantic connections with LLM...\n",
      "Embedding chunks in parallel...\n"
     ]
    },
    {
     "name": "stderr",
     "output_type": "stream",
     "text": [
      "\n",
      "🔄 Embedding batches: 100%|██████████| 449/449 [00:34<00:00, 12.98it/s]\n"
     ]
    },
    {
     "name": "stdout",
     "output_type": "stream",
     "text": [
      "Storing chunks in FAISS...\n"
     ]
    }
   ],
   "source": [
    "for bp in book_paths:\n",
    "    add_books_to_faiss(\n",
    "        book_paths=[bp],\n",
    "        faiss_path=faiss_path,\n",
    "        model_name=\"hf\",\n",
    "        n_workers=6,\n",
    "        batch_size=32\n",
    "    )"
   ]
  },
  {
   "cell_type": "code",
   "execution_count": null,
   "id": "c6a42cd4",
   "metadata": {},
   "outputs": [],
   "source": []
  }
 ],
 "metadata": {
  "kernelspec": {
   "display_name": "Python 3",
   "language": "python",
   "name": "python3"
  },
  "language_info": {
   "codemirror_mode": {
    "name": "ipython",
    "version": 3
   },
   "file_extension": ".py",
   "mimetype": "text/x-python",
   "name": "python",
   "nbconvert_exporter": "python",
   "pygments_lexer": "ipython3",
   "version": "3.11.0"
  }
 },
 "nbformat": 4,
 "nbformat_minor": 5
}
