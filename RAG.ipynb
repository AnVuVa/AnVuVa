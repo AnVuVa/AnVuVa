{
 "cells": [
  {
   "cell_type": "code",
   "execution_count": null,
   "id": "8a897147",
   "metadata": {},
   "outputs": [],
   "source": []
  },
  {
   "cell_type": "code",
   "execution_count": null,
   "id": "f7bf2667",
   "metadata": {},
   "outputs": [],
   "source": [
    "user = \"\"\"How parasites affect the heart, especially heart failure? Which parasites\n",
    "          cause these problems? And how can they do?\"\"\""
   ]
  },
  {
   "cell_type": "code",
   "execution_count": 3,
   "id": "e3706ea9",
   "metadata": {},
   "outputs": [],
   "source": [
    "import importlib\n",
    "import chatbot\n",
    "importlib.reload(chatbot)\n",
    "from chatbot import Chatbot"
   ]
  },
  {
   "cell_type": "code",
   "execution_count": 4,
   "id": "d77e3c88",
   "metadata": {},
   "outputs": [],
   "source": [
    "chatbot = Chatbot(model_name=\"openai\")"
   ]
  },
  {
   "cell_type": "markdown",
   "id": "a586f417",
   "metadata": {},
   "source": [
    "### No RAG"
   ]
  },
  {
   "cell_type": "code",
   "execution_count": null,
   "id": "838c1742",
   "metadata": {},
   "outputs": [
    {
     "name": "stdout",
     "output_type": "stream",
     "text": [
      "Parasites can have significant effects on the heart and can contribute to heart failure through various mechanisms. The two primary parasitic infections that affect the heart are **Trypanosomiasis** (specifically Chagas disease) and **Strongyloidiasis**. Below is a detailed overview of how these parasites can affect heart health:\n",
      "\n",
      "### 1. Chagas Disease (Trypanosoma cruzi)\n",
      "\n",
      "**Caused by:** Trypanosoma cruzi, a protozoan parasite.\n",
      "\n",
      "**Mechanism of Heart Damage:**\n",
      "- **Direct Myocardial Infection:** T. cruzi can directly invade heart muscle cells (myocytes) and other tissues, leading to inflammation and destruction of cardiac tissue.\n",
      "- **Chronic Inflammation:** The infection can lead to chronic inflammation and immune-mediated damage, contributing to cardiomyopathy and fibrosis.\n",
      "- **Autonomic Nervous System Disruption:** The parasite also affects the autonomic nervous system, which can lead to arrhythmias, heart block, and other cardiac functional issues.\n",
      "\n",
      "**Effects on Heart:**\n",
      "- **Dilated Cardiomyopathy:** Chagas disease often leads to dilated cardiomyopathy, characterized by an enlarged heart and reduced systolic function.\n",
      "- **Heart Failure:** Over time, the damage can progress to heart failure, with symptoms including fatigue, swelling, and exercise intolerance.\n",
      "- **Arrhythmias and Sudden Death:** Patients with Chagas disease often experience arrhythmias due to the electrical conduction system being involved, increasing the risk of sudden cardiac death.\n",
      "\n",
      "### 2. Strongyloidiasis (Strongyloides stercoralis)\n",
      "\n",
      "**Caused by:** Strongyloides stercoralis, a soil-transmitted nematode.\n",
      "\n",
      "**Mechanism of Heart Damage:**\n",
      "- **Chronic Infection and Immune Response:** In immunocompromised individuals, strongyloidiasis can lead to disseminated disease, where the parasite can cause systemic inflammation and affect various organs, including the heart.\n",
      "- **Thromboembolic Events:** Severe cases can lead to increased thrombotic complications, affecting cardiac perfusion.\n",
      "- **Direct Damage:** In some cases, strongyloides can contribute to myocarditis, although this is less common.\n",
      "\n",
      "**Effects on Heart:**\n",
      "- **Heart Failure Indicator:** Chronic strongyloidiasis may show a potential connection to heart issues but is less established directly compared to Chagas disease.\n",
      "\n",
      "### 3. Other Parasitic Infections\n",
      "\n",
      "While Chagas disease and strongyloidiasis are the most notable, other parasites may also influence heart health:\n",
      "- **Leishmaniasis:** Though primarily affecting the skin and internal organs, leishmaniasis can, in some cases, lead to myocarditis.\n",
      "  \n",
      "### Prevention and Treatment\n",
      "\n",
      "- **Preventative Measures:** Strategies to prevent these infections include vector control for Chagas disease (reducing contact with triatomine bugs) and proper sanitation to reduce exposure to strongyloides.\n",
      "- **Treatment:** Specific antiparasitic drugs (such as benznidazole for Chagas disease) can help treat the infections and prevent progression to severe heart complications. Supportive treatments for heart failure may also be necessary.\n",
      "\n",
      "### Conclusion\n",
      "\n",
      "Parasites can cause significant heart issues, particularly through direct infection of the myocardial tissue and the resulting immune response. Understanding these mechanisms is crucial for diagnosis, treatment, and management of patients at risk for or suffering from heart failure due to parasitic infections.\n"
     ]
    }
   ],
   "source": [
    "response = chatbot.chat(user)\n",
    "print(response)"
   ]
  },
  {
   "cell_type": "markdown",
   "id": "659a06d9",
   "metadata": {},
   "source": [
    "### RAG"
   ]
  },
  {
   "cell_type": "code",
   "execution_count": 5,
   "id": "1c2d4711",
   "metadata": {},
   "outputs": [],
   "source": [
    "import vectordb\n",
    "importlib.reload(vectordb)\n",
    "from vectordb import create_retriever"
   ]
  },
  {
   "cell_type": "code",
   "execution_count": 6,
   "id": "49a16821",
   "metadata": {},
   "outputs": [
    {
     "name": "stderr",
     "output_type": "stream",
     "text": [
      "/home/codespace/.python/current/lib/python3.12/site-packages/tqdm/auto.py:21: TqdmWarning: IProgress not found. Please update jupyter and ipywidgets. See https://ipywidgets.readthedocs.io/en/stable/user_install.html\n",
      "  from .autonotebook import tqdm as notebook_tqdm\n"
     ]
    }
   ],
   "source": [
    "faiss_index_path = \"faiss_index\"\n",
    "retriever = create_retriever(faiss_index_path)"
   ]
  },
  {
   "cell_type": "code",
   "execution_count": 7,
   "id": "1a1c95ef",
   "metadata": {},
   "outputs": [
    {
     "name": "stderr",
     "output_type": "stream",
     "text": [
      "/tmp/ipykernel_123790/518178601.py:1: LangChainDeprecationWarning: The method `BaseRetriever.get_relevant_documents` was deprecated in langchain-core 0.1.46 and will be removed in 1.0. Use :meth:`~invoke` instead.\n",
      "  results = retriever.get_relevant_documents(user, k = 4)\n"
     ]
    }
   ],
   "source": [
    "results = retriever.get_relevant_documents(user, k = 4)"
   ]
  },
  {
   "cell_type": "code",
   "execution_count": 8,
   "id": "bc6b3b22",
   "metadata": {},
   "outputs": [],
   "source": [
    "context =  \"\\n\\n\".join(result.page_content for result in results)"
   ]
  },
  {
   "cell_type": "code",
   "execution_count": 11,
   "id": "5c68284e",
   "metadata": {},
   "outputs": [
    {
     "name": "stdout",
     "output_type": "stream",
     "text": [
      "THE ETIOLOGIC BASIS OF CONGESTIVE HEART FAILURE 45\n",
      "\n",
      "FIGURE 3-25. American trypanosomiasis (Chagas' disease). The most common infection of the h eart worldwide is Chagas' disease, caused by the protozoan parasite Trypanosoma cruz;, which is spread by reduviid insects [47]. Infection with T. cruz; is end emic in Latin America and is now increasingly observed in the United States. Acute Chagas' disease is characterized by the systemic spread of the parasites to muscle, including myo cardium. Two drugs, benznidazole and nifurtimox, shorten the acute phase of T. cruz; infection but achieve a cure in only 50°;;, of\n",
      "\n",
      "understanding the pathophysiology of heart failure at all levels, from molecular changes to the integrated circulatory system. It is now apparent that many forms of primary cardiomyopathy, such as hypertrophic cardiomyopathy and some forms of dilated cardiomyopathy, are genetic in origin, and rapid progress is being made in identifying specific molecular defects that cause a variety of inherited heart muscle diseases. Likewise, it is now clear that profound secondary changes occur in previously normal myocardium in response to abnormal mechanical stresses and neuro humoral stimuli that result from common cardiovascular conditions such as myocardial infarction, valvular heart disease, and systemic hypertension. Collectively referred to as \"remodeling/' these secondary changes in myocytes, fibroblasts, and other constituents of the myocardium result in myocyte hypertrophy and apoptosis, alterations in the interstitial matrix, chamber enlargement, and abnormalities of systolic and\n",
      "\n",
      "FIGURE 3-24. Detection of the spirochete Borrelia burgdorferi (arrow) in human myocardium (modified Steiner's silver stain). Lyme disease, a multisystem disorder caused by infection with B. burgdorferi, produces cardiac disease, notably arrhythmias and myocarditis, as a tertiary manifestation [45]. This infection is transmitted to humans from bites of ticks of the genus Ixodes. Here the spirochete is demonstrated in myocardium from a patient with a 4-year history of dilated cardiomyopathy and a serologic profile consistent with chronic Lyme disease. Despite therapy with ceftriaxone, the patient did not experience improvement in cardiac function. (From Stanek et al. [46]; with permission.)\n",
      "\n",
      "THE ETIOLOGIC BASIS OF CONGESTIVE HEART FAILURE 45\n",
      "\n",
      "ATLAS OF HEART FAILURE: CARDIAC FUNCTION AND DYSFUNCTION 258\n",
      "\n",
      "FIGURE 14-12. Hematoxylin and eosin staining of representative endomyocardial biopsies at a magnification of 100 X showing grade 1B rejection with focal lymphocytic infiltrate without evidence of myocardial necrosis (A), grade 3A rejection demon strating more intensive lymphocytic infiltration and myocyte necrosis (B), and grade 4 allograft rejection with extensive lymphocyte infiltration, myocyte necrosis, and hemorrhage (C).\n",
      "\n",
      "Conventional no ocomial infe lion\n",
      "\n",
      "Viral\n",
      "\n",
      "Un onventional or opportuni tic infeclion\n",
      "\n",
      "Community-acquired or per istenl infection\n",
      "\n",
      "f- M\n",
      "\n",
      "r tiniti. or ohti ---\n",
      "\n",
      "FIGURE 14-13. Infections associated with posttransplant immunosuppression. Because of reduced cellular immunity, the cardiac transplantation recipient is subject to development of typical bacterial as well as atypical viral, protozoal, and fungal infections. A, The typical posttransplant infections and the times at which they occur.\n",
      "\n",
      "f-\n"
     ]
    }
   ],
   "source": [
    "print(context)"
   ]
  },
  {
   "cell_type": "code",
   "execution_count": 12,
   "id": "1f4cba67",
   "metadata": {},
   "outputs": [],
   "source": [
    "prompt = f\"\"\"\n",
    "You are a medical expert. Answer the following question based on your knowledge coorperate with the context provided below.\n",
    "Question: {user}\n",
    "Context: {context}\n",
    "Answer:\n",
    "\"\"\""
   ]
  },
  {
   "cell_type": "code",
   "execution_count": 13,
   "id": "103dc06e",
   "metadata": {},
   "outputs": [
    {
     "name": "stdout",
     "output_type": "stream",
     "text": [
      "Parasites can significantly affect the heart and contribute to heart failure through several mechanisms. The two primary parasitic infections associated with cardiac complications are ***Chagas disease*** and ***Lyme disease***.\n",
      "\n",
      "1. **Chagas Disease**:\n",
      "   - **Causative Agent**: The protozoan parasite ***Trypanosoma cruzi***, transmitted primarily by the reduviid insect.\n",
      "   - **Mechanisms of Cardiac Impact**: \n",
      "     - **Acute Phase**: During the acute phase, T. cruzi spreads systemically, infecting various tissues, including the myocardium (heart muscle). This leads to inflammation and damage to the heart tissue.\n",
      "     - **Chronic Phase**: Chronic Chagas disease can result in cardiomyopathy, characterized by progressive heart dysfunction. The immune response to the parasite may also lead to autoimmune reactions that cause additional damage to the myocardium.\n",
      "     - **Consequences**: Over time, these processes can lead to heart failure, arrhythmias, and dilated cardiomyopathy as the heart becomes progressively weakened and enlarged due to damage and remodeling.\n",
      "\n",
      "2. **Lyme Disease**:\n",
      "   - **Causative Agent**: The spirochete ***Borrelia burgdorferi***, transmitted through bites from Ixodes ticks.\n",
      "   - **Mechanisms of Cardiac Impact**: \n",
      "     - Lyme disease can lead to myocarditis, characterized by inflammation of the heart muscle, which may cause arrhythmias and can affect cardiac function. The spirochete can be detected in the myocardium, indicating direct infection or inflammation caused by the immune response.\n",
      "     - In chronic cases, persistent infection may result in dilated cardiomyopathy or other heart-related complications that can contribute to heart failure.\n",
      "   \n",
      "3. **Pathophysiology of Heart Failure**:\n",
      "   - Both T. cruzi and B. burgdorferi infections lead to inflammation and damage to the heart muscle. This results in an array of pathological changes, including myocyte hypertrophy (enlargement of muscle cells), apoptosis (cell death), and changes in the interstitial matrix, which ultimately contribute to heart remodeling – a significant factor in the development of heart failure.\n",
      "   - These infections provoke a systemic immune response that can overwhelm the heart and disrupt normal cardiac function, leading to conditions like systolic and diastolic dysfunction. \n",
      "\n",
      "In summary, parasites like Trypanosoma cruzi and Borrelia burgdorferi can lead to heart failure through direct damage to heart tissues and through immune-mediated mechanisms that alter the structure and function of the heart muscle. Early detection and treatment are crucial to managing these infections and preventing long-term cardiac complications.\n"
     ]
    }
   ],
   "source": [
    "response = chatbot.chat(prompt)\n",
    "print(response)"
   ]
  },
  {
   "cell_type": "markdown",
   "id": "5a167c8b",
   "metadata": {},
   "source": [
    "### GraphRAG"
   ]
  },
  {
   "cell_type": "code",
   "execution_count": 15,
   "id": "cd7150f7",
   "metadata": {},
   "outputs": [],
   "source": [
    "results = retriever.get_relevant_documents(user, k = 4)\n",
    "context =  \"\\n\\n\".join(result.page_content for result in results)"
   ]
  },
  {
   "cell_type": "code",
   "execution_count": 24,
   "id": "09fb51b2",
   "metadata": {},
   "outputs": [],
   "source": [
    "import graphdb\n",
    "importlib.reload(graphdb)\n",
    "from graphdb import retriever"
   ]
  },
  {
   "cell_type": "code",
   "execution_count": 25,
   "id": "c7b47f57",
   "metadata": {},
   "outputs": [],
   "source": [
    "graph_results = retriever(context, \"openai\")"
   ]
  },
  {
   "cell_type": "code",
   "execution_count": null,
   "id": "2c6746bc",
   "metadata": {},
   "outputs": [],
   "source": [
    "combined_context = context + '\\n'.join(graph_results)"
   ]
  },
  {
   "cell_type": "code",
   "execution_count": null,
   "id": "fdf95143",
   "metadata": {},
   "outputs": [],
   "source": [
    "prompt = f\"\"\"\n",
    "You are a medical expert. Answer the following question based on your knowledge coorperate with the context provided below.\n",
    "Question: {user}\n",
    "Context: {combined_context}\n",
    "Answer:\n",
    "\"\"\""
   ]
  },
  {
   "cell_type": "code",
   "execution_count": 31,
   "id": "f43cba5c",
   "metadata": {},
   "outputs": [
    {
     "name": "stdout",
     "output_type": "stream",
     "text": [
      "Parasites can significantly affect the heart and contribute to heart failure through various mechanisms, primarily through direct infection of cardiac tissues and the resultant inflammatory response. \n",
      "\n",
      "### Key Parasites Involved in Cardiac Dysfunction:\n",
      "\n",
      "1. **Trypanosoma cruzi**: This protozoan parasite causes Chagas' disease, which is recognized as the most common infection affecting the heart worldwide. It is transmitted by the bite of reduviid insects and can lead to both acute and chronic cardiac complications. \n",
      "\n",
      "   - **Mechanism**: In the acute phase, *T. cruzi* spreads systemically, infecting various tissues, including the myocardium. This can lead to myocyte damage, inflammation, and eventually chronic heart conditions such as dilated cardiomyopathy. Chronic Chagas' disease often results in fibrotic changes in the myocardium, chamber enlargement, and severe heart dysfunction.\n",
      "\n",
      "2. **Borrelia burgdorferi**: This spirochete bacterium, which causes Lyme disease, can also result in cardiac manifestations, particularly carditis that may lead to arrhythmias and myocarditis.\n",
      "\n",
      "   - **Mechanism**: Lyme disease can provoke an inflammatory response in cardiac tissues, leading to myocarditis, characterized by lymphocytic infiltration and myocardial necrosis. This inflammation can disrupt normal cardiac function and lead to heart failure, especially in chronic cases where structural damage becomes significant.\n",
      "\n",
      "### Pathophysiology of Heart Failure Due to Parasitic Infections:\n",
      "\n",
      "- **Direct Damage**: Pathogen replication in cardiac myocytes can lead to cell death and consequent heart muscle damage.\n",
      "- **Inflammatory Response**: The immune response to these parasites can cause additional damage to heart tissues through inflammatory mediators, resulting in remodeling of the myocardium—a process that leads to further functional deterioration and may develop into dilated cardiomyopathy.\n",
      "- **Fibrosis and Remodeling**: As the heart muscle becomes damaged and inflamed, it often undergoes pathological remodeling characterized by myocyte hypertrophy, fibrosis, and changes in the extracellular matrix. These changes contribute to systolic and diastolic dysfunction, ultimately leading to heart failure.\n",
      "\n",
      "### Conclusion:\n",
      "\n",
      "In summary, parasites such as *Trypanosoma cruzi* and *Borrelia burgdorferi* can significantly affect the heart and contribute to heart failure through direct myocardial infection, inflammation, and resultant myocardial remodeling. Understanding these mechanisms is crucial for managing and treating heart failure related to parasitic infections.\n"
     ]
    }
   ],
   "source": [
    "response = chatbot.chat(prompt)\n",
    "print(response)"
   ]
  },
  {
   "cell_type": "markdown",
   "id": "ccf614ab",
   "metadata": {},
   "source": [
    "### MedGraphRAG"
   ]
  },
  {
   "cell_type": "markdown",
   "id": "43d4914a",
   "metadata": {},
   "source": []
  }
 ],
 "metadata": {
  "kernelspec": {
   "display_name": "Python 3",
   "language": "python",
   "name": "python3"
  },
  "language_info": {
   "codemirror_mode": {
    "name": "ipython",
    "version": 3
   },
   "file_extension": ".py",
   "mimetype": "text/x-python",
   "name": "python",
   "nbconvert_exporter": "python",
   "pygments_lexer": "ipython3",
   "version": "3.12.1"
  }
 },
 "nbformat": 4,
 "nbformat_minor": 5
}
