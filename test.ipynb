{
 "cells": [
  {
   "cell_type": "code",
   "execution_count": 72,
   "id": "d3c78994",
   "metadata": {},
   "outputs": [],
   "source": [
    "from camel.models import ModelFactory\n",
    "from camel.types import ModelPlatformType, ModelType\n",
    "from camel.configs import MistralConfig, OllamaConfig\n",
    "from camel.loaders import UnstructuredIO\n",
    "from camel.storages import Neo4jGraph\n",
    "from camel.retrievers import AutoRetriever\n",
    "from camel.embeddings import MistralEmbedding\n",
    "from camel.types import StorageType\n",
    "from camel.agents import ChatAgent, KnowledgeGraphAgent\n",
    "from camel.messages import BaseMessage\n"
   ]
  },
  {
   "cell_type": "code",
   "execution_count": null,
   "id": "21e0222b",
   "metadata": {},
   "outputs": [],
   "source": [
    "import os\n",
    "from getpass import getpass\n",
    "\n"
   ]
  },
  {
   "cell_type": "code",
   "execution_count": null,
   "id": "a0cf42b5",
   "metadata": {},
   "outputs": [],
   "source": [
    "# Set Neo4j instance\n",
    "n4j = Neo4jGraph(\n",
    "    url = \"\",\n",
    "    username = \"neo4j\",\n",
    "    password = \"\"\n",
    ")"
   ]
  },
  {
   "cell_type": "code",
   "execution_count": 84,
   "id": "823fd835",
   "metadata": {},
   "outputs": [
    {
     "name": "stdout",
     "output_type": "stream",
     "text": [
      "Ollama server started on http://localhost:11434/v1 for nuextract model.\n"
     ]
    }
   ],
   "source": [
    "# Set up model\n",
    "model = ModelFactory.create(\n",
    "    model_platform=ModelPlatformType.OLLAMA,\n",
    "    model_type=\"nuextract\",\n",
    "    model_config_dict=OllamaConfig(temperature=0.2, max_tokens=2048).as_dict(),\n",
    ")"
   ]
  },
  {
   "cell_type": "code",
   "execution_count": 74,
   "id": "48e92f6c",
   "metadata": {},
   "outputs": [
    {
     "name": "stdout",
     "output_type": "stream",
     "text": [
      "2025-04-27 09:32:31,858 - root - WARNING - Invalid or missing `max_tokens` in `model_config_dict`. Defaulting to 999_999_999 tokens.\n"
     ]
    }
   ],
   "source": [
    "# Set instance\n",
    "uio = UnstructuredIO()\n",
    "kg_agent = KnowledgeGraphAgent(model=model)"
   ]
  },
  {
   "cell_type": "code",
   "execution_count": 75,
   "id": "982c6f97",
   "metadata": {},
   "outputs": [],
   "source": [
    "# Set example text input\n",
    "input_file_path = r\"E:\\Git_clone\\RAG\\qa_dataset\\data_clean\\textbooks\\en\\Anatomy_Gray.txt\"\n",
    "with open(input_file_path, 'r', encoding='utf-8') as file:\n",
    "    text_example = file.read()"
   ]
  },
  {
   "cell_type": "code",
   "execution_count": 76,
   "id": "2c18c06b",
   "metadata": {},
   "outputs": [
    {
     "data": {
      "text/plain": [
       "2281157"
      ]
     },
     "execution_count": 76,
     "metadata": {},
     "output_type": "execute_result"
    }
   ],
   "source": [
    "len(text_example)"
   ]
  },
  {
   "cell_type": "code",
   "execution_count": 77,
   "id": "02bef699",
   "metadata": {},
   "outputs": [
    {
     "data": {
      "text/plain": [
       "'What is anatomy?\\n\\nAnatomy includes those structures that can be seen grossly (without the aid of magnification) and microscopically (with the aid of magnification). Typically, when used by itself, the term anatomy tends to mean gross or macroscopic anatomy—that is, the study of structures that can be seen without using a microscopic. Microscopic anatomy, also called histology, is the study of cells and tissues using a microscope.\\n\\nAnatomy forms the basis for the practice of medicine. Anatomy leads the physician toward an understanding of a patient’s disease, whether he or she is carrying out a physical examination or using the most advanced imaging techniques. Anatomy is also important for dentists, chiropractors, physical therapists, and all others involved in any aspect of patient treatment that begins with an analysis of clinical signs. The ability to interpret a clinical observation correctly is therefore the endpoint of a sound anatomical understanding.\\n\\nObservation and visualizat'"
      ]
     },
     "execution_count": 77,
     "metadata": {},
     "output_type": "execute_result"
    }
   ],
   "source": [
    "text_example[:1000]"
   ]
  },
  {
   "cell_type": "code",
   "execution_count": 80,
   "id": "728026a1",
   "metadata": {},
   "outputs": [],
   "source": [
    "# Create an element from given text\n",
    "element_example = uio.create_element_from_text(\n",
    "    text=text_example[:1000], element_id=\"0\"\n",
    ")"
   ]
  },
  {
   "cell_type": "code",
   "execution_count": 81,
   "id": "18478002",
   "metadata": {},
   "outputs": [
    {
     "name": "stdout",
     "output_type": "stream",
     "text": [
      " Nodes:\n",
      "\n",
      "Node(id='anatomy', type='Concept')\n",
      "Node(id='structures', type='Concept')\n",
      "Node(id='grossly', type='Concept')\n",
      "Node(id='microscopically', type='Concept')\n",
      "Node(id='cells', type='Concept')\n",
      "Node(id='tissues', type='Concept')\n",
      "Node(id='patient\\u2019s disease', type='Concept')\n",
      "Node(id='clinical signs', type='Concept')\n",
      "\n",
      "Relationships:\n",
      "\n",
      "Relationship(subj=Node(id='anatomy', type='Concept'), obj=Node(id='structures', type='Concept'), type='includes')\n",
      "Relationship(subj=Node(id='grossly', type='Concept'), obj=Node(id='structures', type='Concept'), type='can be seen without the aid of magnification')\n",
      "Relationship(subj=Node(id='microscopic anatomy', type='Concept'), obj=Node(id='cells', type='Concept'), type='is the study of cells and tissues using a microscope')\n",
      "Relationship(subj=Node(id='anatomy', type='Concept'), obj=Node(id='patient\\u2019s disease', type='Concept'), type='leads the physician towards an understanding of')\n",
      "Relationship(subj=Node(id='anatomy', type='Concept'), obj=Node(id='clinical signs', type='Concept'), type='is important for')\n",
      "Relationship(subj=Node(id='observation', type='Concept'), obj=Node(id='visualizat', type='Concept'), type='and visualizat')\n",
      "\n",
      "Note: The provided content does not contain enough information to create more specific relationships. Therefore, the extracted nodes and relationships are based on general concepts mentioned in the text.\n"
     ]
    }
   ],
   "source": [
    "# Let Knowledge Graph Agent extract node and relationship information\n",
    "ans_element = kg_agent.run(element_example, parse_graph_elements=False)\n",
    "print(ans_element)"
   ]
  },
  {
   "cell_type": "code",
   "execution_count": null,
   "id": "7d231e5c",
   "metadata": {},
   "outputs": [
    {
     "name": "stdout",
     "output_type": "stream",
     "text": [
      " Nodes:\n",
      "\n",
      "Node(id='CAMEL', type='Organization')\n",
      "Node(id='Mistral AI', type='Organization')\n",
      "Node(id='Mistral Large 2', type='Model')\n",
      "\n",
      "Relationships:\n",
      "\n",
      "Relationship(subj=Node(id='CAMEL', type='Organization'), obj=Node(id='Mistral AI', \n",
      "type='Organization'), type='developed')\n",
      "Relationship(subj=Node(id='Mistral Large 2', type='Model'), obj=Node(id='Mistral AI', \n",
      "type='Organization'), type='runsWith')\n"
     ]
    }
   ],
   "source": [
    "# Let Knowledge Graph Agent extract node and relationship information\n",
    "ans_element = kg_agent.run(element_example, parse_graph_elements=False)\n",
    "print(ans_element)"
   ]
  },
  {
   "cell_type": "code",
   "execution_count": 86,
   "id": "914b4892",
   "metadata": {},
   "outputs": [
    {
     "name": "stdout",
     "output_type": "stream",
     "text": [
      "Response: msgs=[BaseMessage(role_name='assistant', role_type=<RoleType.ASSISTANT: 'assistant'>, meta_dict={}, content=' The capital of France is Paris.', video_bytes=None, image_list=None, image_detail='auto', video_detail='low', parsed=None)] terminated=False info={'id': 'chatcmpl-227', 'usage': {'completion_tokens': 8, 'prompt_tokens': 15, 'total_tokens': 23, 'completion_tokens_details': None, 'prompt_tokens_details': None}, 'termination_reasons': ['stop'], 'num_tokens': 14, 'tool_calls': [], 'external_tool_call_requests': None}\n"
     ]
    },
    {
     "name": "stderr",
     "output_type": "stream",
     "text": [
      "C:\\Users\\This PC\\AppData\\Local\\Temp\\ipykernel_5288\\843032406.py:5: RuntimeWarning: coroutine 'ChatAgent.astep' was never awaited\n",
      "  response = chat_agent.step(prompt)\n",
      "RuntimeWarning: Enable tracemalloc to get the object allocation traceback\n"
     ]
    }
   ],
   "source": [
    "chat_agent = ChatAgent(model=model)\n",
    "\n",
    "# Example usage of the ChatAgent\n",
    "prompt = \"What is the capital of France?\"\n",
    "response = chat_agent.step(prompt)\n",
    "print(\"Response:\", response)"
   ]
  },
  {
   "cell_type": "code",
   "execution_count": 87,
   "id": "419e513b",
   "metadata": {},
   "outputs": [
    {
     "data": {
      "text/plain": [
       "' The capital of France is Paris.'"
      ]
     },
     "execution_count": 87,
     "metadata": {},
     "output_type": "execute_result"
    }
   ],
   "source": [
    "response.msgs[0].content"
   ]
  }
 ],
 "metadata": {
  "kernelspec": {
   "display_name": "Python 3",
   "language": "python",
   "name": "python3"
  },
  "language_info": {
   "codemirror_mode": {
    "name": "ipython",
    "version": 3
   },
   "file_extension": ".py",
   "mimetype": "text/x-python",
   "name": "python",
   "nbconvert_exporter": "python",
   "pygments_lexer": "ipython3",
   "version": "3.11.0"
  }
 },
 "nbformat": 4,
 "nbformat_minor": 5
}
