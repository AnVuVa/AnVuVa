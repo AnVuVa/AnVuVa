{
 "cells": [
  {
   "cell_type": "code",
   "execution_count": null,
   "id": "87ec81ce",
   "metadata": {},
   "outputs": [],
   "source": [
    "import os\n",
    "os.environ['OPENAI_API_KEY'] = 'your_openai_api_key_here'\n",
    "os.environ['MISTRAL_API_KEY'] = 'your_mistral_api_key_here'"
   ]
  },
  {
   "cell_type": "code",
   "execution_count": 12,
   "id": "fa111d50",
   "metadata": {},
   "outputs": [],
   "source": [
    "import importlib, graphdb\n",
    "importlib.reload(graphdb)\n",
    "from graphdb import process_document_to_neo4j"
   ]
  },
  {
   "cell_type": "code",
   "execution_count": 13,
   "id": "a3c52654",
   "metadata": {},
   "outputs": [],
   "source": [
    "# file_paths = [\n",
    "#     # r\"/workspaces/YuE/books/Anatomy and Physiology, OpenStax, Rice University.pdf\",\n",
    "#     # r\"/workspaces/YuE/books/Atlas of HEART FAILURE _ Cardiac Function and Dysfunction -- Arnold M_ Katz (auth_), Wilson S_ Colucci MD (eds_) -- Softcover reprint of the original -- 9781475745580 -- 5bec97274a4e43ffe879a28356cddf22 -- Anna’s.pdf\",\n",
    "#     # r\"/workspaces/YuE/books/Internal Medicine, Getachew Tizazu, Tadesse Anteneh.pdf\",\n",
    "#     # r\"/workspaces/YuE/books/Ultrasound Physics and its Application in Medicine, Arbin Thapaliya; Alec Sithole; Michael Welsh; and Gaston Dana.pdf\",\n",
    "#     # r\"/workspaces/YuE/books/04. Social Medicine author Silvia Capíková, Michaela Kosticová, Ivan Solovic.pdf\",\n",
    "#     # r\"/workspaces/YuE/books/02. Diagnosis and Treatment Manual author Patestos Dimitrios (1).pdf\",\n",
    "#     # r\"/workspaces/YuE/books/03. Good clinical diagnostic practice author Jane Carter, Irmela Müller-Stöver, Harald Östensen, Claus Chr. Heuck.pdf\",\n",
    "#     # r\"/workspaces/YuE/books/11. Immunology author Guus van der Bie.pdf\",\n",
    "#     r\"C:\\Users\\This PC\\Downloads\\qa_dataset\\data_clean\\textbooks\\en\\Anatomy_Gray.txt\"\n",
    "# ]\n",
    "list_directory = r\"e:\\Git_clone\\RAG\\qa_dataset\\data_clean\\textbooks\\en\"\n",
    "book_paths = [os.path.join(list_directory, f) for f in os.listdir(list_directory) if os.path.isfile(os.path.join(list_directory, f))]\n",
    "\n",
    "faiss_path = r\"/workspaces/YuE/faiss_index\""
   ]
  },
  {
   "cell_type": "code",
   "execution_count": 14,
   "id": "3f65112d",
   "metadata": {},
   "outputs": [
    {
     "data": {
      "text/plain": [
       "'e:\\\\Git_clone\\\\RAG'"
      ]
     },
     "execution_count": 14,
     "metadata": {},
     "output_type": "execute_result"
    }
   ],
   "source": [
    "os.getcwd()"
   ]
  },
  {
   "cell_type": "code",
   "execution_count": null,
   "id": "684dd05f",
   "metadata": {},
   "outputs": [
    {
     "name": "stdout",
     "output_type": "stream",
     "text": [
      "Processing e:\\Git_clone\\RAG\\qa_dataset\\data_clean\\textbooks\\en\\Anatomy_Gray.txt...\n",
      "3017 --> 2998\n",
      "Number of chunks: 2998\n",
      "Ollama server started on http://localhost:11434/v1 for nuextract model.\n"
     ]
    },
    {
     "name": "stderr",
     "output_type": "stream",
     "text": [
      "Processing in parallel:   0%|          | 2/2998 [01:14<30:00:51, 36.07s/it]"
     ]
    }
   ],
   "source": [
    "for bp in book_paths:\n",
    "    print(f\"Processing {bp}...\")\n",
    "    process_document_to_neo4j(\n",
    "        file_path=bp,\n",
    "        extract_model=\"nuextract\",\n",
    "        n_workers=4,\n",
    "        gid=1\n",
    "    )"
   ]
  },
  {
   "cell_type": "code",
   "execution_count": null,
   "id": "aea50c0b",
   "metadata": {},
   "outputs": [],
   "source": []
  }
 ],
 "metadata": {
  "kernelspec": {
   "display_name": "Python 3",
   "language": "python",
   "name": "python3"
  },
  "language_info": {
   "codemirror_mode": {
    "name": "ipython",
    "version": 3
   },
   "file_extension": ".py",
   "mimetype": "text/x-python",
   "name": "python",
   "nbconvert_exporter": "python",
   "pygments_lexer": "ipython3",
   "version": "3.11.0"
  }
 },
 "nbformat": 4,
 "nbformat_minor": 5
}
